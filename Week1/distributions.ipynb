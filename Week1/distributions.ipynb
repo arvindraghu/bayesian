{
 "cells": [
  {
   "cell_type": "code",
   "execution_count": 5,
   "metadata": {
    "collapsed": true
   },
   "outputs": [],
   "source": [
    "%matplotlib inline\n",
    "import matplotlib.pyplot as plt\n",
    "import numpy as np"
   ]
  },
  {
   "cell_type": "code",
   "execution_count": 19,
   "metadata": {
    "collapsed": false
   },
   "outputs": [],
   "source": [
    "draw_gamma = np.random.gamma(2,1,size=1000)"
   ]
  },
  {
   "cell_type": "markdown",
   "metadata": {},
   "source": [
    "the mean and variance of a Gamma(a,b) random variable are a/b and a/b^2 respectively."
   ]
  },
  {
   "cell_type": "code",
   "execution_count": 20,
   "metadata": {
    "collapsed": false
   },
   "outputs": [
    {
     "data": {
      "text/plain": [
       "(array([ 338.,  324.,  175.,   94.,   39.,   21.,    6.,    1.,    1.,    1.]),\n",
       " array([  0.05644606,   1.1415786 ,   2.22671113,   3.31184366,\n",
       "          4.39697619,   5.48210872,   6.56724126,   7.65237379,\n",
       "          8.73750632,   9.82263885,  10.90777138]),\n",
       " <a list of 10 Patch objects>)"
      ]
     },
     "execution_count": 20,
     "metadata": {},
     "output_type": "execute_result"
    },
    {
     "data": {
      "image/png": "[encoded data removed]",
      "text/plain": [
       "<matplotlib.figure.Figure at 0x115e35080>"
      ]
     },
     "metadata": {},
     "output_type": "display_data"
    }
   ],
   "source": [
    "plt.hist(draw_gamma)"
   ]
  },
  {
   "cell_type": "code",
   "execution_count": 22,
   "metadata": {
    "collapsed": false
   },
   "outputs": [
    {
     "name": "stdout",
     "output_type": "stream",
     "text": [
      "1.96914350491\n"
     ]
    }
   ],
   "source": [
    "x_bar = (1./1000)*np.sum(draw_gamma)\n",
    "print(x_bar)"
   ]
  },
  {
   "cell_type": "code",
   "execution_count": 26,
   "metadata": {
    "collapsed": false
   },
   "outputs": [
    {
     "data": {
      "text/plain": [
       "2.0551567278408811"
      ]
     },
     "execution_count": 26,
     "metadata": {},
     "output_type": "execute_result"
    }
   ],
   "source": [
    "np.var(draw_gamma)"
   ]
  },
  {
   "cell_type": "code",
   "execution_count": 32,
   "metadata": {
    "collapsed": false
   },
   "outputs": [
    {
     "data": {
      "text/plain": [
       "(array([ 674.,  195.,   50.,   14.,   17.,    9.,    5.,    8.,    7.,\n",
       "           4.,    1.,    3.,    3.,    2.,    1.,    0.,    1.,    1.,\n",
       "           2.,    0.,    0.,    1.,    0.,    0.,    0.,    0.,    0.,\n",
       "           0.,    0.,    0.,    0.,    0.,    0.,    0.,    0.,    0.,\n",
       "           1.,    0.,    0.,    0.,    0.,    0.,    0.,    0.,    0.,\n",
       "           0.,    0.,    0.,    0.,    1.]),\n",
       " array([  4.67991491e-07,   1.59798183e+00,   3.19596318e+00,\n",
       "          4.79394454e+00,   6.39192590e+00,   7.98990726e+00,\n",
       "          9.58788861e+00,   1.11858700e+01,   1.27838513e+01,\n",
       "          1.43818327e+01,   1.59798140e+01,   1.75777954e+01,\n",
       "          1.91757768e+01,   2.07737581e+01,   2.23717395e+01,\n",
       "          2.39697208e+01,   2.55677022e+01,   2.71656835e+01,\n",
       "          2.87636649e+01,   3.03616463e+01,   3.19596276e+01,\n",
       "          3.35576090e+01,   3.51555903e+01,   3.67535717e+01,\n",
       "          3.83515530e+01,   3.99495344e+01,   4.15475158e+01,\n",
       "          4.31454971e+01,   4.47434785e+01,   4.63414598e+01,\n",
       "          4.79394412e+01,   4.95374225e+01,   5.11354039e+01,\n",
       "          5.27333853e+01,   5.43313666e+01,   5.59293480e+01,\n",
       "          5.75273293e+01,   5.91253107e+01,   6.07232921e+01,\n",
       "          6.23212734e+01,   6.39192548e+01,   6.55172361e+01,\n",
       "          6.71152175e+01,   6.87131988e+01,   7.03111802e+01,\n",
       "          7.19091616e+01,   7.35071429e+01,   7.51051243e+01,\n",
       "          7.67031056e+01,   7.83010870e+01,   7.98990683e+01]),\n",
       " <a list of 50 Patch objects>)"
      ]
     },
     "execution_count": 32,
     "metadata": {},
     "output_type": "execute_result"
    },
    {
     "data": {
      "image/png": "[encoded data removed]",
      "text/plain": [
       "<matplotlib.figure.Figure at 0x11643a630>"
      ]
     },
     "metadata": {},
     "output_type": "display_data"
    }
   ],
   "source": [
    "plt.hist(np.power((draw_gamma - draw_gamma.mean()),2),bins=50)"
   ]
  },
  {
   "cell_type": "code",
   "execution_count": 66,
   "metadata": {
    "collapsed": false
   },
   "outputs": [],
   "source": [
    "draw_beta = np.random.beta(5,3,size=100000)"
   ]
  },
  {
   "cell_type": "markdown",
   "metadata": {},
   "source": [
    "The posterior mean for θ is equal to 5/5+3=0.625"
   ]
  },
  {
   "cell_type": "code",
   "execution_count": 67,
   "metadata": {
    "collapsed": false
   },
   "outputs": [
    {
     "data": {
      "text/plain": [
       "(array([    19.,     92.,    340.,    718.,   1336.,   2261.,   3567.,\n",
       "          4712.,   6231.,   7789.,   9199.,  10142.,  10622.,  10580.,\n",
       "         10063.,   8692.,   6687.,   4409.,   2106.,    435.]),\n",
       " array([ 0.05704552,  0.10385951,  0.1506735 ,  0.1974875 ,  0.24430149,\n",
       "         0.29111548,  0.33792947,  0.38474346,  0.43155745,  0.47837144,\n",
       "         0.52518543,  0.57199942,  0.61881341,  0.66562741,  0.7124414 ,\n",
       "         0.75925539,  0.80606938,  0.85288337,  0.89969736,  0.94651135,\n",
       "         0.99332534]),\n",
       " <a list of 20 Patch objects>)"
      ]
     },
     "execution_count": 67,
     "metadata": {},
     "output_type": "execute_result"
    },
    {
     "data": {
      "image/png": "[encoded data removed]",
      "text/plain": [
       "<matplotlib.figure.Figure at 0x11694c470>"
      ]
     },
     "metadata": {},
     "output_type": "display_data"
    }
   ],
   "source": [
    "plt.hist(draw_beta, bins=20)"
   ]
  },
  {
   "cell_type": "code",
   "execution_count": 70,
   "metadata": {
    "collapsed": false
   },
   "outputs": [
    {
     "data": {
      "text/plain": [
       "2.4885878838870314"
      ]
     },
     "execution_count": 70,
     "metadata": {},
     "output_type": "execute_result"
    }
   ],
   "source": [
    "np.mean(draw_beta*1./(1-draw_beta))"
   ]
  },
  {
   "cell_type": "code",
   "execution_count": 73,
   "metadata": {
    "collapsed": false,
    "scrolled": true
   },
   "outputs": [
    {
     "name": "stdout",
     "output_type": "stream",
     "text": [
      "In iter0, 0.77295 were over 1.0\n",
      "In iter1, 0.77354 were over 1.0\n",
      "In iter2, 0.77214 were over 1.0\n",
      "In iter3, 0.7729 were over 1.0\n",
      "In iter4, 0.77232 were over 1.0\n",
      "In iter5, 0.77399 were over 1.0\n",
      "In iter6, 0.77358 were over 1.0\n",
      "In iter7, 0.77407 were over 1.0\n",
      "In iter8, 0.77411 were over 1.0\n",
      "In iter9, 0.77413 were over 1.0\n",
      "In iter10, 0.77256 were over 1.0\n",
      "In iter11, 0.77391 were over 1.0\n",
      "In iter12, 0.77559 were over 1.0\n",
      "In iter13, 0.77263 were over 1.0\n",
      "In iter14, 0.77285 were over 1.0\n",
      "In iter15, 0.77301 were over 1.0\n",
      "In iter16, 0.77442 were over 1.0\n",
      "In iter17, 0.77246 were over 1.0\n",
      "In iter18, 0.7745 were over 1.0\n",
      "In iter19, 0.77238 were over 1.0\n",
      "In iter20, 0.77316 were over 1.0\n",
      "In iter21, 0.77363 were over 1.0\n",
      "In iter22, 0.77347 were over 1.0\n",
      "In iter23, 0.77271 were over 1.0\n",
      "In iter24, 0.77159 were over 1.0\n",
      "In iter25, 0.77428 were over 1.0\n",
      "In iter26, 0.77275 were over 1.0\n",
      "In iter27, 0.77357 were over 1.0\n",
      "In iter28, 0.77155 were over 1.0\n",
      "In iter29, 0.77452 were over 1.0\n",
      "In iter30, 0.77357 were over 1.0\n",
      "In iter31, 0.77294 were over 1.0\n",
      "In iter32, 0.77271 were over 1.0\n",
      "In iter33, 0.77396 were over 1.0\n",
      "In iter34, 0.77216 were over 1.0\n",
      "In iter35, 0.77254 were over 1.0\n",
      "In iter36, 0.77305 were over 1.0\n",
      "In iter37, 0.77495 were over 1.0\n",
      "In iter38, 0.77043 were over 1.0\n",
      "In iter39, 0.77495 were over 1.0\n",
      "In iter40, 0.77695 were over 1.0\n",
      "In iter41, 0.77319 were over 1.0\n",
      "In iter42, 0.77166 were over 1.0\n",
      "In iter43, 0.77445 were over 1.0\n",
      "In iter44, 0.77282 were over 1.0\n",
      "In iter45, 0.77095 were over 1.0\n",
      "In iter46, 0.77215 were over 1.0\n",
      "In iter47, 0.77268 were over 1.0\n",
      "In iter48, 0.7734 were over 1.0\n",
      "In iter49, 0.77386 were over 1.0\n",
      "In iter50, 0.7743 were over 1.0\n",
      "In iter51, 0.77192 were over 1.0\n",
      "In iter52, 0.77208 were over 1.0\n",
      "In iter53, 0.77243 were over 1.0\n",
      "In iter54, 0.77178 were over 1.0\n",
      "In iter55, 0.77344 were over 1.0\n",
      "In iter56, 0.77137 were over 1.0\n",
      "In iter57, 0.77216 were over 1.0\n",
      "In iter58, 0.77381 were over 1.0\n",
      "In iter59, 0.77329 were over 1.0\n",
      "In iter60, 0.77589 were over 1.0\n",
      "In iter61, 0.77572 were over 1.0\n",
      "In iter62, 0.77418 were over 1.0\n",
      "In iter63, 0.77223 were over 1.0\n",
      "In iter64, 0.77249 were over 1.0\n",
      "In iter65, 0.7737 were over 1.0\n",
      "In iter66, 0.77373 were over 1.0\n",
      "In iter67, 0.77116 were over 1.0\n",
      "In iter68, 0.77481 were over 1.0\n",
      "In iter69, 0.77537 were over 1.0\n",
      "In iter70, 0.77569 were over 1.0\n",
      "In iter71, 0.77222 were over 1.0\n",
      "In iter72, 0.7741 were over 1.0\n",
      "In iter73, 0.77303 were over 1.0\n",
      "In iter74, 0.77314 were over 1.0\n",
      "In iter75, 0.7721 were over 1.0\n",
      "In iter76, 0.77205 were over 1.0\n",
      "In iter77, 0.77287 were over 1.0\n",
      "In iter78, 0.77314 were over 1.0\n",
      "In iter79, 0.77286 were over 1.0\n",
      "In iter80, 0.77546 were over 1.0\n",
      "In iter81, 0.77193 were over 1.0\n",
      "In iter82, 0.77515 were over 1.0\n",
      "In iter83, 0.77355 were over 1.0\n",
      "In iter84, 0.77337 were over 1.0\n",
      "In iter85, 0.77539 were over 1.0\n",
      "In iter86, 0.77165 were over 1.0\n",
      "In iter87, 0.77314 were over 1.0\n",
      "In iter88, 0.77324 were over 1.0\n",
      "In iter89, 0.77456 were over 1.0\n",
      "In iter90, 0.77283 were over 1.0\n",
      "In iter91, 0.77397 were over 1.0\n",
      "In iter92, 0.77313 were over 1.0\n",
      "In iter93, 0.77116 were over 1.0\n",
      "In iter94, 0.77506 were over 1.0\n",
      "In iter95, 0.77279 were over 1.0\n",
      "In iter96, 0.7728 were over 1.0\n",
      "In iter97, 0.77317 were over 1.0\n",
      "In iter98, 0.77331 were over 1.0\n",
      "In iter99, 0.77459 were over 1.0\n"
     ]
    }
   ],
   "source": [
    "n_repeat = 100\n",
    "list_pr = []\n",
    "for i in range(n_repeat):\n",
    "    draw_beta = np.random.beta(5,3,size=100000)\n",
    "    qty = (draw_beta*1./(1-draw_beta))\n",
    "    count_occur = (qty>1.0).astype(int).sum()\n",
    "    print(\"In iter{i}, {c} were over 1.0\".format(i=i, c = count_occur*1.0/draw_beta.shape[0]))\n",
    "    list_pr.append(count_occur*1.0/draw_beta.shape[0])\n"
   ]
  },
  {
   "cell_type": "code",
   "execution_count": 77,
   "metadata": {
    "collapsed": false
   },
   "outputs": [
    {
     "name": "stdout",
     "output_type": "stream",
     "text": [
      "0.7732995 1.47062675e-06\n"
     ]
    }
   ],
   "source": [
    "print(np.mean(list_pr),np.var(list_pr))"
   ]
  },
  {
   "cell_type": "markdown",
   "metadata": {},
   "source": [
    "Use a (large) Monte Carlo sample to approximate the 0.3 quantile of the standard normal distribution (N(0,1)), the number such that the probability of being less than it is 0.3.\n",
    "\n",
    "Use the 𝚚𝚞𝚊𝚗𝚝𝚒𝚕𝚎 function in R. You can of course check your answer using the 𝚚𝚗𝚘𝚛𝚖 function.\n",
    "\n",
    "Report your answer to at least two decimal places."
   ]
  },
  {
   "cell_type": "code",
   "execution_count": 95,
   "metadata": {
    "collapsed": false
   },
   "outputs": [],
   "source": [
    "n_sample_draws = 10000\n",
    "n_repeats = 1000\n",
    "list_pr_3 = []\n",
    "for i in range(n_repeats):\n",
    "    draw_gauss = np.random.normal(0,1,size=n_sample_draws)\n",
    "    count_3 = [i<0.3 for i in draw_gauss]\n",
    "    list_pr_3.append(np.array(count_3).astype(int).sum())\n",
    "    "
   ]
  },
  {
   "cell_type": "code",
   "execution_count": 102,
   "metadata": {
    "collapsed": false
   },
   "outputs": [
    {
     "data": {
      "text/plain": [
       "0.61768889999999999"
      ]
     },
     "execution_count": 102,
     "metadata": {},
     "output_type": "execute_result"
    }
   ],
   "source": [
    "np.array([i*1./n_sample_draws for i in list_pr_3]).mean()"
   ]
  },
  {
   "cell_type": "code",
   "execution_count": 105,
   "metadata": {
    "collapsed": true
   },
   "outputs": [],
   "source": [
    "import scipy.stats"
   ]
  },
  {
   "cell_type": "code",
   "execution_count": 107,
   "metadata": {
    "collapsed": false
   },
   "outputs": [
    {
     "data": {
      "text/plain": [
       "-0.52440051270804089"
      ]
     },
     "execution_count": 107,
     "metadata": {},
     "output_type": "execute_result"
    }
   ],
   "source": [
    "scipy.stats.norm.ppf(0.3)"
   ]
  },
  {
   "cell_type": "code",
   "execution_count": 104,
   "metadata": {
    "collapsed": false
   },
   "outputs": [
    {
     "data": {
      "text/plain": [
       "-2.687885791372159"
      ]
     },
     "execution_count": 104,
     "metadata": {},
     "output_type": "execute_result"
    }
   ],
   "source": [
    "np.percentile(draw_gauss,0.3)"
   ]
  }
 ],
 "metadata": {
  "kernelspec": {
   "display_name": "Python 3",
   "language": "python",
   "name": "python3"
  },
  "language_info": {
   "codemirror_mode": {
    "name": "ipython",
    "version": 3
   },
   "file_extension": ".py",
   "mimetype": "text/x-python",
   "name": "python",
   "nbconvert_exporter": "python",
   "pygments_lexer": "ipython3",
   "version": "3.5.3"
  }
 },
 "nbformat": 4,
 "nbformat_minor": 0
}
